{
 "cells": [
  {
   "cell_type": "markdown",
   "metadata": {},
   "source": [
    "# Using ANN to predict if a customer will leave the bank?"
   ]
  },
  {
   "cell_type": "code",
   "execution_count": 1,
   "metadata": {
    "collapsed": true
   },
   "outputs": [],
   "source": [
    "# Importing the libraries\n",
    "import numpy as np\n",
    "import matplotlib.pyplot as plt\n",
    "import pandas as pd"
   ]
  },
  {
   "cell_type": "code",
   "execution_count": 2,
   "metadata": {},
   "outputs": [
    {
     "name": "stdout",
     "output_type": "stream",
     "text": [
      "D:\\ds\\portfolio\n",
      "D:\\ds\\portfolio\\dataset\n"
     ]
    }
   ],
   "source": [
    "import os\n",
    "%cd ..\n",
    "%cd dataset"
   ]
  },
  {
   "cell_type": "code",
   "execution_count": 3,
   "metadata": {
    "collapsed": true
   },
   "outputs": [],
   "source": [
    "# Importing the dataset\n",
    "dataset = pd.read_csv('Churn_Modelling.csv')"
   ]
  },
  {
   "cell_type": "code",
   "execution_count": 4,
   "metadata": {
    "scrolled": true
   },
   "outputs": [
    {
     "name": "stdout",
     "output_type": "stream",
     "text": [
      "D:\\ds\\portfolio\n",
      "D:\\ds\\portfolio\\bankprediction\n"
     ]
    }
   ],
   "source": [
    "%cd ..\n",
    "%cd bankprediction"
   ]
  },
  {
   "cell_type": "code",
   "execution_count": 5,
   "metadata": {},
   "outputs": [
    {
     "data": {
      "text/html": [
       "<div>\n",
       "<style>\n",
       "    .dataframe thead tr:only-child th {\n",
       "        text-align: right;\n",
       "    }\n",
       "\n",
       "    .dataframe thead th {\n",
       "        text-align: left;\n",
       "    }\n",
       "\n",
       "    .dataframe tbody tr th {\n",
       "        vertical-align: top;\n",
       "    }\n",
       "</style>\n",
       "<table border=\"1\" class=\"dataframe\">\n",
       "  <thead>\n",
       "    <tr style=\"text-align: right;\">\n",
       "      <th></th>\n",
       "      <th>RowNumber</th>\n",
       "      <th>CustomerId</th>\n",
       "      <th>Surname</th>\n",
       "      <th>CreditScore</th>\n",
       "      <th>Geography</th>\n",
       "      <th>Gender</th>\n",
       "      <th>Age</th>\n",
       "      <th>Tenure</th>\n",
       "      <th>Balance</th>\n",
       "      <th>NumOfProducts</th>\n",
       "      <th>HasCrCard</th>\n",
       "      <th>IsActiveMember</th>\n",
       "      <th>EstimatedSalary</th>\n",
       "      <th>Exited</th>\n",
       "    </tr>\n",
       "  </thead>\n",
       "  <tbody>\n",
       "    <tr>\n",
       "      <th>0</th>\n",
       "      <td>1</td>\n",
       "      <td>15634602</td>\n",
       "      <td>Hargrave</td>\n",
       "      <td>619</td>\n",
       "      <td>France</td>\n",
       "      <td>Female</td>\n",
       "      <td>42</td>\n",
       "      <td>2</td>\n",
       "      <td>0.00</td>\n",
       "      <td>1</td>\n",
       "      <td>1</td>\n",
       "      <td>1</td>\n",
       "      <td>101348.88</td>\n",
       "      <td>1</td>\n",
       "    </tr>\n",
       "    <tr>\n",
       "      <th>1</th>\n",
       "      <td>2</td>\n",
       "      <td>15647311</td>\n",
       "      <td>Hill</td>\n",
       "      <td>608</td>\n",
       "      <td>Spain</td>\n",
       "      <td>Female</td>\n",
       "      <td>41</td>\n",
       "      <td>1</td>\n",
       "      <td>83807.86</td>\n",
       "      <td>1</td>\n",
       "      <td>0</td>\n",
       "      <td>1</td>\n",
       "      <td>112542.58</td>\n",
       "      <td>0</td>\n",
       "    </tr>\n",
       "    <tr>\n",
       "      <th>2</th>\n",
       "      <td>3</td>\n",
       "      <td>15619304</td>\n",
       "      <td>Onio</td>\n",
       "      <td>502</td>\n",
       "      <td>France</td>\n",
       "      <td>Female</td>\n",
       "      <td>42</td>\n",
       "      <td>8</td>\n",
       "      <td>159660.80</td>\n",
       "      <td>3</td>\n",
       "      <td>1</td>\n",
       "      <td>0</td>\n",
       "      <td>113931.57</td>\n",
       "      <td>1</td>\n",
       "    </tr>\n",
       "    <tr>\n",
       "      <th>3</th>\n",
       "      <td>4</td>\n",
       "      <td>15701354</td>\n",
       "      <td>Boni</td>\n",
       "      <td>699</td>\n",
       "      <td>France</td>\n",
       "      <td>Female</td>\n",
       "      <td>39</td>\n",
       "      <td>1</td>\n",
       "      <td>0.00</td>\n",
       "      <td>2</td>\n",
       "      <td>0</td>\n",
       "      <td>0</td>\n",
       "      <td>93826.63</td>\n",
       "      <td>0</td>\n",
       "    </tr>\n",
       "    <tr>\n",
       "      <th>4</th>\n",
       "      <td>5</td>\n",
       "      <td>15737888</td>\n",
       "      <td>Mitchell</td>\n",
       "      <td>850</td>\n",
       "      <td>Spain</td>\n",
       "      <td>Female</td>\n",
       "      <td>43</td>\n",
       "      <td>2</td>\n",
       "      <td>125510.82</td>\n",
       "      <td>1</td>\n",
       "      <td>1</td>\n",
       "      <td>1</td>\n",
       "      <td>79084.10</td>\n",
       "      <td>0</td>\n",
       "    </tr>\n",
       "  </tbody>\n",
       "</table>\n",
       "</div>"
      ],
      "text/plain": [
       "   RowNumber  CustomerId   Surname  CreditScore Geography  Gender  Age  \\\n",
       "0          1    15634602  Hargrave          619    France  Female   42   \n",
       "1          2    15647311      Hill          608     Spain  Female   41   \n",
       "2          3    15619304      Onio          502    France  Female   42   \n",
       "3          4    15701354      Boni          699    France  Female   39   \n",
       "4          5    15737888  Mitchell          850     Spain  Female   43   \n",
       "\n",
       "   Tenure    Balance  NumOfProducts  HasCrCard  IsActiveMember  \\\n",
       "0       2       0.00              1          1               1   \n",
       "1       1   83807.86              1          0               1   \n",
       "2       8  159660.80              3          1               0   \n",
       "3       1       0.00              2          0               0   \n",
       "4       2  125510.82              1          1               1   \n",
       "\n",
       "   EstimatedSalary  Exited  \n",
       "0        101348.88       1  \n",
       "1        112542.58       0  \n",
       "2        113931.57       1  \n",
       "3         93826.63       0  \n",
       "4         79084.10       0  "
      ]
     },
     "execution_count": 5,
     "metadata": {},
     "output_type": "execute_result"
    }
   ],
   "source": [
    "dataset.head()"
   ]
  },
  {
   "cell_type": "code",
   "execution_count": 6,
   "metadata": {
    "scrolled": true
   },
   "outputs": [
    {
     "data": {
      "text/plain": [
       "array(['France', 'Spain', 'Germany'], dtype=object)"
      ]
     },
     "execution_count": 6,
     "metadata": {},
     "output_type": "execute_result"
    }
   ],
   "source": [
    "dataset['Geography'].unique()"
   ]
  },
  {
   "cell_type": "code",
   "execution_count": 7,
   "metadata": {},
   "outputs": [
    {
     "data": {
      "text/plain": [
       "(10000, 14)"
      ]
     },
     "execution_count": 7,
     "metadata": {},
     "output_type": "execute_result"
    }
   ],
   "source": [
    "dataset.shape"
   ]
  },
  {
   "cell_type": "code",
   "execution_count": 8,
   "metadata": {},
   "outputs": [],
   "source": [
    "X = dataset.iloc[:, 3:13].values\n",
    "y = dataset.iloc[:, 13].values"
   ]
  },
  {
   "cell_type": "code",
   "execution_count": 9,
   "metadata": {},
   "outputs": [
    {
     "data": {
      "text/plain": [
       "(10000, 10)"
      ]
     },
     "execution_count": 9,
     "metadata": {},
     "output_type": "execute_result"
    }
   ],
   "source": [
    "X.shape"
   ]
  },
  {
   "cell_type": "code",
   "execution_count": 10,
   "metadata": {},
   "outputs": [
    {
     "data": {
      "text/plain": [
       "array([619, 'France', 'Female', 42, 2, 0.0, 1, 1, 1, 101348.88], dtype=object)"
      ]
     },
     "execution_count": 10,
     "metadata": {},
     "output_type": "execute_result"
    }
   ],
   "source": [
    "X[0]"
   ]
  },
  {
   "cell_type": "code",
   "execution_count": 11,
   "metadata": {
    "collapsed": true
   },
   "outputs": [],
   "source": [
    "# Encoding categorical data\n",
    "from sklearn.preprocessing import LabelEncoder, OneHotEncoder\n",
    "labelencoder_X_1 = LabelEncoder()\n",
    "X[:, 1] = labelencoder_X_1.fit_transform(X[:, 1])\n",
    "labelencoder_X_2 = LabelEncoder()\n",
    "X[:, 2] = labelencoder_X_2.fit_transform(X[:, 2])\n",
    "onehotencoder = OneHotEncoder(categorical_features = [1])\n",
    "X = onehotencoder.fit_transform(X).toarray()\n",
    "X = X[:, 1:]"
   ]
  },
  {
   "cell_type": "code",
   "execution_count": 12,
   "metadata": {},
   "outputs": [
    {
     "data": {
      "text/plain": [
       "array([0.0, 1.0, 608.0, 0.0, 41.0, 1.0, 83807.86, 1.0, 0.0, 1.0, 112542.58], dtype=object)"
      ]
     },
     "execution_count": 12,
     "metadata": {},
     "output_type": "execute_result"
    }
   ],
   "source": [
    "X[1].astype(object)"
   ]
  },
  {
   "cell_type": "code",
   "execution_count": 13,
   "metadata": {},
   "outputs": [
    {
     "data": {
      "text/plain": [
       "(10000, 11)"
      ]
     },
     "execution_count": 13,
     "metadata": {},
     "output_type": "execute_result"
    }
   ],
   "source": [
    "X.shape"
   ]
  },
  {
   "cell_type": "code",
   "execution_count": 14,
   "metadata": {
    "collapsed": true
   },
   "outputs": [],
   "source": [
    "# Splitting the dataset into the Training set and Test set\n",
    "from sklearn.model_selection import train_test_split\n",
    "X_train, X_test, y_train, y_test = train_test_split(X, y, test_size = 0.2, random_state = 0)"
   ]
  },
  {
   "cell_type": "code",
   "execution_count": 15,
   "metadata": {
    "collapsed": true
   },
   "outputs": [],
   "source": [
    "# Feature Scaling\n",
    "from sklearn.preprocessing import StandardScaler\n",
    "sc = StandardScaler()\n",
    "X_train = sc.fit_transform(X_train)\n",
    "X_test = sc.transform(X_test)"
   ]
  },
  {
   "cell_type": "code",
   "execution_count": 16,
   "metadata": {},
   "outputs": [
    {
     "name": "stderr",
     "output_type": "stream",
     "text": [
      "Using TensorFlow backend.\n"
     ]
    }
   ],
   "source": [
    "# Importing the Keras libraries and packages\n",
    "import keras\n",
    "from keras.models import Sequential\n",
    "from keras.layers import Dense\n",
    "from keras.layers import Dropout"
   ]
  },
  {
   "cell_type": "code",
   "execution_count": 17,
   "metadata": {},
   "outputs": [],
   "source": [
    "# Making the ANN\n",
    "\n",
    "# Initialising the ANN\n",
    "classifier = Sequential()\n",
    "\n",
    "# Adding the input layer and the first hidden layer\n",
    "classifier.add(Dense(units = 20, kernel_initializer = 'uniform', activation = 'relu', input_dim = 11))\n",
    "classifier.add(Dropout(0.1))\n",
    "\n",
    "# Adding the second hidden layer\n",
    "classifier.add(Dense(units = 20, kernel_initializer = 'uniform', activation = 'relu'))\n",
    "classifier.add(Dropout(0.1))\n",
    "\n",
    "# Adding the output layer\n",
    "classifier.add(Dense(units = 1, kernel_initializer = 'uniform', activation = 'sigmoid'))"
   ]
  },
  {
   "cell_type": "code",
   "execution_count": 18,
   "metadata": {
    "collapsed": true,
    "scrolled": true
   },
   "outputs": [],
   "source": [
    "#Saving the empty model\n",
    "classifier.save_weights('empty.h5')"
   ]
  },
  {
   "cell_type": "code",
   "execution_count": 19,
   "metadata": {},
   "outputs": [],
   "source": [
    "#Loading the empty model.\n",
    "#if we want to change the optimizer and see its effect on model from scratch.\n",
    "classifier.load_weights('empty.h5')"
   ]
  },
  {
   "cell_type": "code",
   "execution_count": 20,
   "metadata": {},
   "outputs": [],
   "source": [
    "optimizer = 'Adam'"
   ]
  },
  {
   "cell_type": "code",
   "execution_count": 21,
   "metadata": {
    "collapsed": true
   },
   "outputs": [],
   "source": [
    "# Compiling the ANN\n",
    "classifier.compile(optimizer = optimizer, loss = 'binary_crossentropy', metrics = ['accuracy'])"
   ]
  },
  {
   "cell_type": "code",
   "execution_count": 22,
   "metadata": {
    "scrolled": true
   },
   "outputs": [
    {
     "name": "stdout",
     "output_type": "stream",
     "text": [
      "Epoch 1/50\n",
      "8000/8000 [==============================] - 4s - loss: 0.4600 - acc: 0.7960     \n",
      "Epoch 2/50\n",
      "8000/8000 [==============================] - 3s - loss: 0.4255 - acc: 0.8098     \n",
      "Epoch 3/50\n",
      "8000/8000 [==============================] - 3s - loss: 0.4189 - acc: 0.8261     \n",
      "Epoch 4/50\n",
      "8000/8000 [==============================] - 3s - loss: 0.4155 - acc: 0.8314     \n",
      "Epoch 5/50\n",
      "8000/8000 [==============================] - 3s - loss: 0.4111 - acc: 0.8321     \n",
      "Epoch 6/50\n",
      "8000/8000 [==============================] - 3s - loss: 0.4117 - acc: 0.8305     \n",
      "Epoch 7/50\n",
      "8000/8000 [==============================] - 3s - loss: 0.4086 - acc: 0.8336     \n",
      "Epoch 8/50\n",
      "8000/8000 [==============================] - 3s - loss: 0.4096 - acc: 0.8326     \n",
      "Epoch 9/50\n",
      "8000/8000 [==============================] - 3s - loss: 0.4091 - acc: 0.8323     \n",
      "Epoch 10/50\n",
      "8000/8000 [==============================] - 3s - loss: 0.4057 - acc: 0.8341     \n",
      "Epoch 11/50\n",
      "8000/8000 [==============================] - 3s - loss: 0.4072 - acc: 0.8311     \n",
      "Epoch 12/50\n",
      "8000/8000 [==============================] - 3s - loss: 0.4040 - acc: 0.8355     \n",
      "Epoch 13/50\n",
      "8000/8000 [==============================] - 3s - loss: 0.4047 - acc: 0.8341     \n",
      "Epoch 14/50\n",
      "8000/8000 [==============================] - 3s - loss: 0.4020 - acc: 0.8320     \n",
      "Epoch 15/50\n",
      "8000/8000 [==============================] - 3s - loss: 0.4037 - acc: 0.8358     \n",
      "Epoch 16/50\n",
      "8000/8000 [==============================] - 3s - loss: 0.4018 - acc: 0.8363     \n",
      "Epoch 17/50\n",
      "8000/8000 [==============================] - 3s - loss: 0.4033 - acc: 0.8356     \n",
      "Epoch 18/50\n",
      "8000/8000 [==============================] - 3s - loss: 0.3978 - acc: 0.8395     \n",
      "Epoch 19/50\n",
      "8000/8000 [==============================] - 3s - loss: 0.3927 - acc: 0.8399     \n",
      "Epoch 20/50\n",
      "8000/8000 [==============================] - 3s - loss: 0.3759 - acc: 0.8493     \n",
      "Epoch 21/50\n",
      "8000/8000 [==============================] - 3s - loss: 0.3690 - acc: 0.8555     \n",
      "Epoch 22/50\n",
      "8000/8000 [==============================] - 3s - loss: 0.3621 - acc: 0.8549     \n",
      "Epoch 23/50\n",
      "8000/8000 [==============================] - 3s - loss: 0.3647 - acc: 0.8540     \n",
      "Epoch 24/50\n",
      "8000/8000 [==============================] - 3s - loss: 0.3602 - acc: 0.8538     \n",
      "Epoch 25/50\n",
      "8000/8000 [==============================] - 3s - loss: 0.3577 - acc: 0.8554     \n",
      "Epoch 26/50\n",
      "8000/8000 [==============================] - 3s - loss: 0.3592 - acc: 0.8531     \n",
      "Epoch 27/50\n",
      "8000/8000 [==============================] - 3s - loss: 0.3575 - acc: 0.8567     \n",
      "Epoch 28/50\n",
      "8000/8000 [==============================] - 3s - loss: 0.3570 - acc: 0.8547     \n",
      "Epoch 29/50\n",
      "8000/8000 [==============================] - 3s - loss: 0.3508 - acc: 0.8576     \n",
      "Epoch 30/50\n",
      "8000/8000 [==============================] - 3s - loss: 0.3560 - acc: 0.8545     \n",
      "Epoch 31/50\n",
      "8000/8000 [==============================] - 3s - loss: 0.3534 - acc: 0.8556     \n",
      "Epoch 32/50\n",
      "8000/8000 [==============================] - 3s - loss: 0.3503 - acc: 0.8594     \n",
      "Epoch 33/50\n",
      "8000/8000 [==============================] - 3s - loss: 0.3498 - acc: 0.8570     \n",
      "Epoch 34/50\n",
      "8000/8000 [==============================] - 3s - loss: 0.3499 - acc: 0.8591     \n",
      "Epoch 35/50\n",
      "8000/8000 [==============================] - 3s - loss: 0.3518 - acc: 0.8560     \n",
      "Epoch 36/50\n",
      "8000/8000 [==============================] - 3s - loss: 0.3495 - acc: 0.8589     \n",
      "Epoch 37/50\n",
      "8000/8000 [==============================] - 3s - loss: 0.3510 - acc: 0.8572     \n",
      "Epoch 38/50\n",
      "8000/8000 [==============================] - 3s - loss: 0.3465 - acc: 0.8583     \n",
      "Epoch 39/50\n",
      "8000/8000 [==============================] - 3s - loss: 0.3453 - acc: 0.8596     \n",
      "Epoch 40/50\n",
      "8000/8000 [==============================] - 4s - loss: 0.3500 - acc: 0.8592     \n",
      "Epoch 41/50\n",
      "8000/8000 [==============================] - 3s - loss: 0.3475 - acc: 0.8579     \n",
      "Epoch 42/50\n",
      "8000/8000 [==============================] - 3s - loss: 0.3456 - acc: 0.8591     \n",
      "Epoch 43/50\n",
      "8000/8000 [==============================] - 3s - loss: 0.3522 - acc: 0.8566     \n",
      "Epoch 44/50\n",
      "8000/8000 [==============================] - 3s - loss: 0.3476 - acc: 0.8569     \n",
      "Epoch 45/50\n",
      "8000/8000 [==============================] - 3s - loss: 0.3477 - acc: 0.8588     \n",
      "Epoch 46/50\n",
      "8000/8000 [==============================] - 3s - loss: 0.3462 - acc: 0.8596     \n",
      "Epoch 47/50\n",
      "8000/8000 [==============================] - 3s - loss: 0.3444 - acc: 0.8606     \n",
      "Epoch 48/50\n",
      "8000/8000 [==============================] - 3s - loss: 0.3451 - acc: 0.8585     \n",
      "Epoch 49/50\n",
      "8000/8000 [==============================] - 3s - loss: 0.3459 - acc: 0.8611     \n",
      "Epoch 50/50\n",
      "8000/8000 [==============================] - 3s - loss: 0.3445 - acc: 0.8593     \n"
     ]
    },
    {
     "data": {
      "text/plain": [
       "<keras.callbacks.History at 0x252aa59ac88>"
      ]
     },
     "execution_count": 22,
     "metadata": {},
     "output_type": "execute_result"
    }
   ],
   "source": [
    "# Fitting the ANN to the Training set\n",
    "classifier.fit(X_train, y_train, batch_size = 10, epochs = 50)"
   ]
  },
  {
   "cell_type": "code",
   "execution_count": 23,
   "metadata": {
    "collapsed": true
   },
   "outputs": [],
   "source": [
    "classifier.save_weights('adam10batch50epoch.h5')"
   ]
  },
  {
   "cell_type": "code",
   "execution_count": 24,
   "metadata": {},
   "outputs": [
    {
     "data": {
      "text/plain": [
       "array([[1525,   70],\n",
       "       [ 211,  194]])"
      ]
     },
     "execution_count": 24,
     "metadata": {},
     "output_type": "execute_result"
    }
   ],
   "source": [
    "# Making predictions and evaluating the model\n",
    "\n",
    "# Predicting the Test set results\n",
    "y_pred = classifier.predict(X_test)\n",
    "y_pred = (y_pred > 0.5)\n",
    "\n",
    "# Making the Confusion Matrix\n",
    "from sklearn.metrics import confusion_matrix\n",
    "cm = confusion_matrix(y_test, y_pred)\n",
    "cm"
   ]
  },
  {
   "cell_type": "code",
   "execution_count": 25,
   "metadata": {},
   "outputs": [
    {
     "data": {
      "text/plain": [
       "array([[False]], dtype=bool)"
      ]
     },
     "execution_count": 25,
     "metadata": {},
     "output_type": "execute_result"
    }
   ],
   "source": [
    "# Predicting a single new observation\n",
    "\"\"\"Predict if the customer with the following informations will leave the bank:\n",
    "Geography: France\n",
    "Credit Score: 600\n",
    "Gender: Male\n",
    "Age: 40\n",
    "Tenure: 3\n",
    "Balance: 60000\n",
    "Number of Products: 2\n",
    "Has Credit Card: Yes\n",
    "Is Active Member: Yes\n",
    "Estimated Salary: 50000\"\"\"\n",
    "new_prediction = classifier.predict(sc.transform(np.array([[0.0, 0, 600, 1, 40, 3, 60000, 2, 1, 1, 50000]])))\n",
    "new_prediction = (new_prediction > 0.5)\n",
    "new_prediction"
   ]
  },
  {
   "cell_type": "markdown",
   "metadata": {},
   "source": [
    "## The new customer for which we are predicting will not leave the bank"
   ]
  }
 ],
 "metadata": {
  "kernelspec": {
   "display_name": "Python 3",
   "language": "python",
   "name": "python3"
  },
  "language_info": {
   "codemirror_mode": {
    "name": "ipython",
    "version": 3
   },
   "file_extension": ".py",
   "mimetype": "text/x-python",
   "name": "python",
   "nbconvert_exporter": "python",
   "pygments_lexer": "ipython3",
   "version": "3.6.1"
  },
  "varInspector": {
   "cols": {
    "lenName": 16,
    "lenType": 16,
    "lenVar": 40
   },
   "kernels_config": {
    "python": {
     "delete_cmd_postfix": "",
     "delete_cmd_prefix": "del ",
     "library": "var_list.py",
     "varRefreshCmd": "print(var_dic_list())"
    },
    "r": {
     "delete_cmd_postfix": ") ",
     "delete_cmd_prefix": "rm(",
     "library": "var_list.r",
     "varRefreshCmd": "cat(var_dic_list()) "
    }
   },
   "oldHeight": 152.4,
   "position": {
    "height": "468px",
    "left": "894px",
    "right": "20px",
    "top": "167px",
    "width": "516px"
   },
   "types_to_exclude": [
    "module",
    "function",
    "builtin_function_or_method",
    "instance",
    "_Feature"
   ],
   "varInspector_section_display": "block",
   "window_display": false
  }
 },
 "nbformat": 4,
 "nbformat_minor": 2
}
